{
 "cells": [
  {
   "cell_type": "markdown",
   "id": "deadly-hudson",
   "metadata": {},
   "source": [
    "# NER with BiLSTM and CRF\n",
    "\n",
    "Ref: \n",
    "- https://www.kaggle.com/nikkisharma536/ner-with-bilstm-and-crf    \n",
    "- https://github.com/tensorflow/addons/issues/1769    \n",
    "- https://towardsdatascience.com/named-entity-recognition-ner-meeting-industrys-requirement-by-applying-state-of-the-art-deep-698d2b3b4ede\n",
    "\n",
    "\n",
    "Dataset: https://www.kaggle.com/abhinavwalia95/entity-annotated-corpus\n",
    "\n",
    "Nvidia Setup Error with Cuda 11.2:\n",
    "- https://medium.com/mlearning-ai/tensorflow-2-4-with-cuda-11-2-gpu-training-fix-87f205215419"
   ]
  },
  {
   "cell_type": "code",
   "execution_count": 1,
   "id": "classified-hughes",
   "metadata": {},
   "outputs": [
    {
     "name": "stderr",
     "output_type": "stream",
     "text": [
      "/opt/envs/ai4e/lib/python3.7/site-packages/tensorflow_addons/utils/ensure_tf_install.py:67: UserWarning: Tensorflow Addons supports using Python ops for all Tensorflow versions above or equal to 2.3.0 and strictly below 2.5.0 (nightly versions are not supported). \n",
      " The versions of TensorFlow you are currently using is 2.5.0 and is not supported. \n",
      "Some things might work, some things might not.\n",
      "If you were to encounter a bug, do not file an issue.\n",
      "If you want to make sure you're using a tested and supported configuration, either change the TensorFlow version or the TensorFlow Addons's version. \n",
      "You can find the compatibility matrix in TensorFlow Addon's readme:\n",
      "https://github.com/tensorflow/addons\n",
      "  UserWarning,\n"
     ]
    }
   ],
   "source": [
    "import pandas as pd\n",
    "import numpy as np\n",
    "\n",
    "from math import nan\n",
    "from future.utils import iteritems\n",
    "import matplotlib.pyplot as plt\n",
    "\n",
    "import tensorflow as tf\n",
    "import tensorflow_addons as tfa\n",
    "from tensorflow.keras.preprocessing.sequence import pad_sequences\n",
    "from tensorflow.keras.utils import to_categorical\n",
    "from sklearn.model_selection import train_test_split\n",
    "from tensorflow.keras.callbacks import ModelCheckpoint\n",
    "\n",
    "from tensorflow.keras import Model, Input"
   ]
  },
  {
   "cell_type": "code",
   "execution_count": 2,
   "id": "herbal-marker",
   "metadata": {},
   "outputs": [
    {
     "name": "stdout",
     "output_type": "stream",
     "text": [
      "Num GPUs Available:  1\n"
     ]
    }
   ],
   "source": [
    "print(\"Num GPUs Available: \", len(tf.config.list_physical_devices('GPU')))\n"
   ]
  },
  {
   "cell_type": "code",
   "execution_count": 3,
   "id": "relative-grade",
   "metadata": {},
   "outputs": [],
   "source": [
    "import tensorflow as tf\n",
    "import tensorflow.keras.backend as K\n",
    "import tensorflow.keras.layers as L\n",
    "from tensorflow_addons.text import crf_log_likelihood, crf_decode\n",
    "\n",
    "\n",
    "class CRF(L.Layer):\n",
    "    def __init__(self,\n",
    "                 output_dim,\n",
    "                 sparse_target=True,\n",
    "                 **kwargs):\n",
    "        \"\"\"    \n",
    "        Args:\n",
    "            output_dim (int): the number of labels to tag each temporal input.\n",
    "            sparse_target (bool): whether the the ground-truth label represented in one-hot.\n",
    "        Input shape:\n",
    "            (batch_size, sentence length, output_dim)\n",
    "        Output shape:\n",
    "            (batch_size, sentence length, output_dim)\n",
    "        \"\"\"\n",
    "        super(CRF, self).__init__(**kwargs)\n",
    "        self.output_dim = int(output_dim) \n",
    "        self.sparse_target = sparse_target\n",
    "        self.input_spec = L.InputSpec(min_ndim=3)\n",
    "        self.supports_masking = False\n",
    "        self.sequence_lengths = None\n",
    "        self.transitions = None\n",
    "\n",
    "    def build(self, input_shape):\n",
    "        assert len(input_shape) == 3\n",
    "        f_shape = tf.TensorShape(input_shape)\n",
    "        input_spec = L.InputSpec(min_ndim=3, axes={-1: f_shape[-1]})\n",
    "\n",
    "        if f_shape[-1] is None:\n",
    "            raise ValueError('The last dimension of the inputs to `CRF` '\n",
    "                             'should be defined. Found `None`.')\n",
    "        if f_shape[-1] != self.output_dim:\n",
    "            raise ValueError('The last dimension of the input shape must be equal to output'\n",
    "                             ' shape. Use a linear layer if needed.')\n",
    "        self.input_spec = input_spec\n",
    "        self.transitions = self.add_weight(name='transitions',\n",
    "                                           shape=[self.output_dim, self.output_dim],\n",
    "                                           initializer='glorot_uniform',\n",
    "                                           trainable=True)\n",
    "        self.built = True\n",
    "\n",
    "    def compute_mask(self, inputs, mask=None):\n",
    "        # Just pass the received mask from previous layer, to the next layer or\n",
    "        # manipulate it if this layer changes the shape of the input\n",
    "        return mask\n",
    "\n",
    "    def call(self, inputs, sequence_lengths=None, training=None, **kwargs):\n",
    "        sequences = tf.convert_to_tensor(inputs, dtype=self.dtype)\n",
    "        if sequence_lengths is not None:\n",
    "            assert len(sequence_lengths.shape) == 2\n",
    "            assert tf.convert_to_tensor(sequence_lengths).dtype == 'int32'\n",
    "            seq_len_shape = tf.convert_to_tensor(sequence_lengths).get_shape().as_list()\n",
    "            assert seq_len_shape[1] == 1\n",
    "            self.sequence_lengths = K.flatten(sequence_lengths)\n",
    "        else:\n",
    "            self.sequence_lengths = tf.ones(tf.shape(inputs)[0], dtype=tf.int32) * (\n",
    "                tf.shape(inputs)[1]\n",
    "            )\n",
    "\n",
    "        viterbi_sequence, _ = crf_decode(sequences,\n",
    "                                         self.transitions,\n",
    "                                         self.sequence_lengths)\n",
    "        output = K.one_hot(viterbi_sequence, self.output_dim)\n",
    "        return K.in_train_phase(sequences, output)\n",
    "\n",
    "    @property\n",
    "    def loss(self):\n",
    "        def crf_loss(y_true, y_pred):\n",
    "            y_pred = tf.convert_to_tensor(y_pred, dtype=self.dtype)\n",
    "            log_likelihood, self.transitions = crf_log_likelihood(\n",
    "                y_pred,\n",
    "                tf.cast(K.argmax(y_true), dtype=tf.int32) if self.sparse_target else y_true,\n",
    "                self.sequence_lengths,\n",
    "                transition_params=self.transitions,\n",
    "            )\n",
    "            return tf.reduce_mean(-log_likelihood)\n",
    "        return crf_loss\n",
    "\n",
    "    @property\n",
    "    def accuracy(self):\n",
    "        def viterbi_accuracy(y_true, y_pred):\n",
    "            # -1e10 to avoid zero at sum(mask)\n",
    "            mask = K.cast(\n",
    "                K.all(K.greater(y_pred, -1e10), axis=2), K.floatx())\n",
    "            shape = tf.shape(y_pred)\n",
    "            sequence_lengths = tf.ones(shape[0], dtype=tf.int32) * (shape[1])\n",
    "            y_pred, _ = crf_decode(y_pred, self.transitions, sequence_lengths)\n",
    "            if self.sparse_target:\n",
    "                y_true = K.argmax(y_true, 2)\n",
    "            y_pred = K.cast(y_pred, 'int32')\n",
    "            y_true = K.cast(y_true, 'int32')\n",
    "            corrects = K.cast(K.equal(y_true, y_pred), K.floatx())\n",
    "            return K.sum(corrects * mask) / K.sum(mask)\n",
    "        return viterbi_accuracy\n",
    "\n",
    "    def compute_output_shape(self, input_shape):\n",
    "        tf.TensorShape(input_shape).assert_has_rank(3)\n",
    "        return input_shape[:2] + (self.output_dim,)\n",
    "\n",
    "    def get_config(self):\n",
    "        config = {\n",
    "            'output_dim': self.output_dim,\n",
    "            'sparse_target': self.sparse_target,\n",
    "            'supports_masking': self.supports_masking,\n",
    "            'transitions': K.eval(self.transitions)\n",
    "        }\n",
    "        base_config = super(CRF, self).get_config()\n",
    "        return dict(base_config, **config)"
   ]
  },
  {
   "cell_type": "code",
   "execution_count": null,
   "id": "insured-comparison",
   "metadata": {},
   "outputs": [],
   "source": []
  },
  {
   "cell_type": "code",
   "execution_count": 4,
   "id": "short-kinase",
   "metadata": {},
   "outputs": [
    {
     "name": "stdout",
     "output_type": "stream",
     "text": [
      "ner.csv  ner_dataset.csv\n"
     ]
    }
   ],
   "source": [
    "! ls ../data/ner/entity-annotated-corpus/archive/"
   ]
  },
  {
   "cell_type": "code",
   "execution_count": 5,
   "id": "universal-serbia",
   "metadata": {},
   "outputs": [],
   "source": [
    "DATA_DIR = '../data/ner/entity-annotated-corpus/archive/'"
   ]
  },
  {
   "cell_type": "code",
   "execution_count": 6,
   "id": "thorough-repeat",
   "metadata": {},
   "outputs": [
    {
     "name": "stderr",
     "output_type": "stream",
     "text": [
      "b'Skipping line 281837: expected 25 fields, saw 34\\n'\n"
     ]
    },
    {
     "data": {
      "text/html": [
       "<div>\n",
       "<style scoped>\n",
       "    .dataframe tbody tr th:only-of-type {\n",
       "        vertical-align: middle;\n",
       "    }\n",
       "\n",
       "    .dataframe tbody tr th {\n",
       "        vertical-align: top;\n",
       "    }\n",
       "\n",
       "    .dataframe thead th {\n",
       "        text-align: right;\n",
       "    }\n",
       "</style>\n",
       "<table border=\"1\" class=\"dataframe\">\n",
       "  <thead>\n",
       "    <tr style=\"text-align: right;\">\n",
       "      <th></th>\n",
       "      <th>Unnamed: 0</th>\n",
       "      <th>lemma</th>\n",
       "      <th>next-lemma</th>\n",
       "      <th>next-next-lemma</th>\n",
       "      <th>next-next-pos</th>\n",
       "      <th>next-next-shape</th>\n",
       "      <th>next-next-word</th>\n",
       "      <th>next-pos</th>\n",
       "      <th>next-shape</th>\n",
       "      <th>next-word</th>\n",
       "      <th>...</th>\n",
       "      <th>prev-prev-lemma</th>\n",
       "      <th>prev-prev-pos</th>\n",
       "      <th>prev-prev-shape</th>\n",
       "      <th>prev-prev-word</th>\n",
       "      <th>prev-shape</th>\n",
       "      <th>prev-word</th>\n",
       "      <th>sentence_idx</th>\n",
       "      <th>shape</th>\n",
       "      <th>word</th>\n",
       "      <th>tag</th>\n",
       "    </tr>\n",
       "  </thead>\n",
       "  <tbody>\n",
       "    <tr>\n",
       "      <th>0</th>\n",
       "      <td>0</td>\n",
       "      <td>thousand</td>\n",
       "      <td>of</td>\n",
       "      <td>demonstr</td>\n",
       "      <td>NNS</td>\n",
       "      <td>lowercase</td>\n",
       "      <td>demonstrators</td>\n",
       "      <td>IN</td>\n",
       "      <td>lowercase</td>\n",
       "      <td>of</td>\n",
       "      <td>...</td>\n",
       "      <td>__start2__</td>\n",
       "      <td>__START2__</td>\n",
       "      <td>wildcard</td>\n",
       "      <td>__START2__</td>\n",
       "      <td>wildcard</td>\n",
       "      <td>__START1__</td>\n",
       "      <td>1.0</td>\n",
       "      <td>capitalized</td>\n",
       "      <td>Thousands</td>\n",
       "      <td>O</td>\n",
       "    </tr>\n",
       "    <tr>\n",
       "      <th>1</th>\n",
       "      <td>1</td>\n",
       "      <td>of</td>\n",
       "      <td>demonstr</td>\n",
       "      <td>have</td>\n",
       "      <td>VBP</td>\n",
       "      <td>lowercase</td>\n",
       "      <td>have</td>\n",
       "      <td>NNS</td>\n",
       "      <td>lowercase</td>\n",
       "      <td>demonstrators</td>\n",
       "      <td>...</td>\n",
       "      <td>__start1__</td>\n",
       "      <td>__START1__</td>\n",
       "      <td>wildcard</td>\n",
       "      <td>__START1__</td>\n",
       "      <td>capitalized</td>\n",
       "      <td>Thousands</td>\n",
       "      <td>1.0</td>\n",
       "      <td>lowercase</td>\n",
       "      <td>of</td>\n",
       "      <td>O</td>\n",
       "    </tr>\n",
       "    <tr>\n",
       "      <th>2</th>\n",
       "      <td>2</td>\n",
       "      <td>demonstr</td>\n",
       "      <td>have</td>\n",
       "      <td>march</td>\n",
       "      <td>VBN</td>\n",
       "      <td>lowercase</td>\n",
       "      <td>marched</td>\n",
       "      <td>VBP</td>\n",
       "      <td>lowercase</td>\n",
       "      <td>have</td>\n",
       "      <td>...</td>\n",
       "      <td>thousand</td>\n",
       "      <td>NNS</td>\n",
       "      <td>capitalized</td>\n",
       "      <td>Thousands</td>\n",
       "      <td>lowercase</td>\n",
       "      <td>of</td>\n",
       "      <td>1.0</td>\n",
       "      <td>lowercase</td>\n",
       "      <td>demonstrators</td>\n",
       "      <td>O</td>\n",
       "    </tr>\n",
       "    <tr>\n",
       "      <th>3</th>\n",
       "      <td>3</td>\n",
       "      <td>have</td>\n",
       "      <td>march</td>\n",
       "      <td>through</td>\n",
       "      <td>IN</td>\n",
       "      <td>lowercase</td>\n",
       "      <td>through</td>\n",
       "      <td>VBN</td>\n",
       "      <td>lowercase</td>\n",
       "      <td>marched</td>\n",
       "      <td>...</td>\n",
       "      <td>of</td>\n",
       "      <td>IN</td>\n",
       "      <td>lowercase</td>\n",
       "      <td>of</td>\n",
       "      <td>lowercase</td>\n",
       "      <td>demonstrators</td>\n",
       "      <td>1.0</td>\n",
       "      <td>lowercase</td>\n",
       "      <td>have</td>\n",
       "      <td>O</td>\n",
       "    </tr>\n",
       "    <tr>\n",
       "      <th>4</th>\n",
       "      <td>4</td>\n",
       "      <td>march</td>\n",
       "      <td>through</td>\n",
       "      <td>london</td>\n",
       "      <td>NNP</td>\n",
       "      <td>capitalized</td>\n",
       "      <td>London</td>\n",
       "      <td>IN</td>\n",
       "      <td>lowercase</td>\n",
       "      <td>through</td>\n",
       "      <td>...</td>\n",
       "      <td>demonstr</td>\n",
       "      <td>NNS</td>\n",
       "      <td>lowercase</td>\n",
       "      <td>demonstrators</td>\n",
       "      <td>lowercase</td>\n",
       "      <td>have</td>\n",
       "      <td>1.0</td>\n",
       "      <td>lowercase</td>\n",
       "      <td>marched</td>\n",
       "      <td>O</td>\n",
       "    </tr>\n",
       "  </tbody>\n",
       "</table>\n",
       "<p>5 rows × 25 columns</p>\n",
       "</div>"
      ],
      "text/plain": [
       "   Unnamed: 0     lemma next-lemma next-next-lemma next-next-pos  \\\n",
       "0           0  thousand         of        demonstr           NNS   \n",
       "1           1        of   demonstr            have           VBP   \n",
       "2           2  demonstr       have           march           VBN   \n",
       "3           3      have      march         through            IN   \n",
       "4           4     march    through          london           NNP   \n",
       "\n",
       "  next-next-shape next-next-word next-pos next-shape      next-word  ...  \\\n",
       "0       lowercase  demonstrators       IN  lowercase             of  ...   \n",
       "1       lowercase           have      NNS  lowercase  demonstrators  ...   \n",
       "2       lowercase        marched      VBP  lowercase           have  ...   \n",
       "3       lowercase        through      VBN  lowercase        marched  ...   \n",
       "4     capitalized         London       IN  lowercase        through  ...   \n",
       "\n",
       "  prev-prev-lemma prev-prev-pos prev-prev-shape prev-prev-word   prev-shape  \\\n",
       "0      __start2__    __START2__        wildcard     __START2__     wildcard   \n",
       "1      __start1__    __START1__        wildcard     __START1__  capitalized   \n",
       "2        thousand           NNS     capitalized      Thousands    lowercase   \n",
       "3              of            IN       lowercase             of    lowercase   \n",
       "4        demonstr           NNS       lowercase  demonstrators    lowercase   \n",
       "\n",
       "       prev-word sentence_idx        shape           word tag  \n",
       "0     __START1__          1.0  capitalized      Thousands   O  \n",
       "1      Thousands          1.0    lowercase             of   O  \n",
       "2             of          1.0    lowercase  demonstrators   O  \n",
       "3  demonstrators          1.0    lowercase           have   O  \n",
       "4           have          1.0    lowercase        marched   O  \n",
       "\n",
       "[5 rows x 25 columns]"
      ]
     },
     "execution_count": 6,
     "metadata": {},
     "output_type": "execute_result"
    }
   ],
   "source": [
    "# Read the dataset\n",
    "df = pd.read_csv(DATA_DIR + \"ner.csv\", encoding = \"ISO-8859-1\", error_bad_lines=False)\n",
    "df.head()"
   ]
  },
  {
   "cell_type": "code",
   "execution_count": 7,
   "id": "authentic-audience",
   "metadata": {},
   "outputs": [
    {
     "data": {
      "text/html": [
       "<div>\n",
       "<style scoped>\n",
       "    .dataframe tbody tr th:only-of-type {\n",
       "        vertical-align: middle;\n",
       "    }\n",
       "\n",
       "    .dataframe tbody tr th {\n",
       "        vertical-align: top;\n",
       "    }\n",
       "\n",
       "    .dataframe thead th {\n",
       "        text-align: right;\n",
       "    }\n",
       "</style>\n",
       "<table border=\"1\" class=\"dataframe\">\n",
       "  <thead>\n",
       "    <tr style=\"text-align: right;\">\n",
       "      <th></th>\n",
       "      <th>sentence_idx</th>\n",
       "      <th>word</th>\n",
       "      <th>tag</th>\n",
       "    </tr>\n",
       "  </thead>\n",
       "  <tbody>\n",
       "    <tr>\n",
       "      <th>0</th>\n",
       "      <td>1.0</td>\n",
       "      <td>Thousands</td>\n",
       "      <td>O</td>\n",
       "    </tr>\n",
       "    <tr>\n",
       "      <th>1</th>\n",
       "      <td>1.0</td>\n",
       "      <td>of</td>\n",
       "      <td>O</td>\n",
       "    </tr>\n",
       "    <tr>\n",
       "      <th>2</th>\n",
       "      <td>1.0</td>\n",
       "      <td>demonstrators</td>\n",
       "      <td>O</td>\n",
       "    </tr>\n",
       "    <tr>\n",
       "      <th>3</th>\n",
       "      <td>1.0</td>\n",
       "      <td>have</td>\n",
       "      <td>O</td>\n",
       "    </tr>\n",
       "    <tr>\n",
       "      <th>4</th>\n",
       "      <td>1.0</td>\n",
       "      <td>marched</td>\n",
       "      <td>O</td>\n",
       "    </tr>\n",
       "  </tbody>\n",
       "</table>\n",
       "</div>"
      ],
      "text/plain": [
       "   sentence_idx           word tag\n",
       "0           1.0      Thousands   O\n",
       "1           1.0             of   O\n",
       "2           1.0  demonstrators   O\n",
       "3           1.0           have   O\n",
       "4           1.0        marched   O"
      ]
     },
     "execution_count": 7,
     "metadata": {},
     "output_type": "execute_result"
    }
   ],
   "source": [
    "# Narrow down the column to NER alone\n",
    "data = df[['sentence_idx','word','tag']]\n",
    "data.head(5)"
   ]
  },
  {
   "cell_type": "code",
   "execution_count": 8,
   "id": "editorial-refrigerator",
   "metadata": {},
   "outputs": [
    {
     "data": {
      "text/plain": [
       "O        889973\n",
       "B-geo     37525\n",
       "B-tim     20193\n",
       "B-org     20184\n",
       "I-per     17382\n",
       "B-per     17011\n",
       "I-org     16537\n",
       "B-gpe     16392\n",
       "I-geo      7409\n",
       "I-tim      6298\n",
       "B-art       434\n",
       "B-eve       348\n",
       "I-eve       297\n",
       "I-art       280\n",
       "I-gpe       229\n",
       "B-nat       226\n",
       "I-nat        76\n",
       "Name: tag, dtype: int64"
      ]
     },
     "execution_count": 8,
     "metadata": {},
     "output_type": "execute_result"
    }
   ],
   "source": [
    "# Count number of NER labels\n",
    "data['tag'].value_counts()"
   ]
  },
  {
   "cell_type": "code",
   "execution_count": 9,
   "id": "dress-detail",
   "metadata": {},
   "outputs": [],
   "source": [
    "class SentenceGetter(object):\n",
    "    \n",
    "    def __init__(self, dataset):\n",
    "        self.n_sent = 1\n",
    "        self.dataset = dataset\n",
    "        self.empty = False\n",
    "        agg_func = lambda s: [(w, t) for w,t in zip(s[\"word\"].values.tolist(), s[\"tag\"].values.tolist())]\n",
    "        self.grouped = self.dataset.groupby(\"sentence_idx\").apply(agg_func)\n",
    "        self.sentences = [s for s in self.grouped]\n",
    "    \n",
    "    def get_next(self):\n",
    "        try:\n",
    "            s = self.grouped[\"Sentence: {}\".format(self.n_sent)]\n",
    "            self.n_sent += 1\n",
    "            return s\n",
    "        except:\n",
    "            return None\n",
    "          \n",
    "getter = SentenceGetter(data)\n",
    "sentences = getter.sentences"
   ]
  },
  {
   "cell_type": "code",
   "execution_count": 10,
   "id": "extra-present",
   "metadata": {},
   "outputs": [
    {
     "name": "stdout",
     "output_type": "stream",
     "text": [
      "[[('Families', 'O'), ('of', 'O'), ('soldiers', 'O'), ('killed', 'O'), ('in', 'O'), ('the', 'O'), ('conflict', 'O'), ('joined', 'O'), ('the', 'O'), ('protesters', 'O'), ('who', 'O'), ('carried', 'O'), ('banners', 'O'), ('with', 'O'), ('such', 'O'), ('slogans', 'O'), ('as', 'O'), ('\"', 'O'), ('Bush', 'B-per'), ('Number', 'O'), ('One', 'O'), ('Terrorist', 'O'), ('\"', 'O'), ('and', 'O'), ('\"', 'O'), ('Stop', 'O'), ('the', 'O'), ('Bombings', 'O'), ('.', 'O'), ('\"', 'O'), ('Families', 'O'), ('of', 'O'), ('soldiers', 'O'), ('killed', 'O'), ('in', 'O'), ('the', 'O'), ('conflict', 'O'), ('joined', 'O'), ('the', 'O'), ('protesters', 'O'), ('who', 'O'), ('carried', 'O'), ('banners', 'O'), ('with', 'O'), ('such', 'O'), ('slogans', 'O'), ('as', 'O'), ('\"', 'O'), ('Bush', 'B-per'), ('Number', 'O'), ('One', 'O'), ('Terrorist', 'O'), ('\"', 'O'), ('and', 'O'), ('\"', 'O'), ('Stop', 'O'), ('the', 'O'), ('Bombings', 'O'), ('.', 'O'), ('\"', 'O')], [('They', 'O'), ('marched', 'O'), ('from', 'O'), ('the', 'O'), ('Houses', 'O'), ('of', 'O'), ('Parliament', 'O'), ('to', 'O'), ('a', 'O'), ('rally', 'O'), ('in', 'O'), ('Hyde', 'B-geo'), ('Park', 'I-geo'), ('.', 'O'), ('They', 'O'), ('marched', 'O'), ('from', 'O'), ('the', 'O'), ('Houses', 'O'), ('of', 'O'), ('Parliament', 'O'), ('to', 'O'), ('a', 'O'), ('rally', 'O'), ('in', 'O'), ('Hyde', 'B-geo'), ('Park', 'I-geo'), ('.', 'O')]]\n"
     ]
    }
   ],
   "source": [
    "print(sentences[1:3])"
   ]
  },
  {
   "cell_type": "code",
   "execution_count": 11,
   "id": "difficult-constraint",
   "metadata": {},
   "outputs": [],
   "source": [
    "words = list(set(data[\"word\"].values))\n",
    "n_words = len(words)\n",
    "\n",
    "tags = list()\n",
    "for tag in set(data[\"tag\"].values):\n",
    "    if tag is nan or isinstance(tag, float):\n",
    "        tags.append('unk')\n",
    "    else:\n",
    "        tags.append(tag)\n",
    "n_tags = len(tags)"
   ]
  },
  {
   "cell_type": "code",
   "execution_count": 12,
   "id": "separated-satisfaction",
   "metadata": {},
   "outputs": [],
   "source": [
    "word2idx = {w: i for i, w in enumerate(words)}\n",
    "tag2idx = {t: i for i, t in enumerate(tags)}\n",
    "idx2tag = {v: k for k, v in iteritems(tag2idx)}"
   ]
  },
  {
   "cell_type": "code",
   "execution_count": 13,
   "id": "informed-battery",
   "metadata": {},
   "outputs": [],
   "source": [
    "maxlen = max([len(s) for s in sentences])\n",
    "\n",
    "X = [[word2idx[w[0]] for w in s] for s in sentences]\n",
    "X = pad_sequences(maxlen=maxlen, sequences=X, padding=\"post\", value=n_words - 1)\n",
    "\n",
    "y = [[tag2idx[w[1]] for w in s] for s in sentences]\n",
    "y = pad_sequences(maxlen=maxlen, sequences=y, padding=\"post\", value=tag2idx[\"O\"])\n",
    "y = [to_categorical(i, num_classes=n_tags) for i in y]\n",
    "\n",
    "# Split train and test data\n",
    "X_train, X_test, y_train, y_test = train_test_split(X, y, test_size=0.2)"
   ]
  },
  {
   "cell_type": "code",
   "execution_count": 14,
   "id": "romance-sphere",
   "metadata": {},
   "outputs": [
    {
     "data": {
      "text/plain": [
       "(140, 30173, 18)"
      ]
     },
     "execution_count": 14,
     "metadata": {},
     "output_type": "execute_result"
    }
   ],
   "source": [
    "maxlen, n_words, n_tags"
   ]
  },
  {
   "cell_type": "code",
   "execution_count": 15,
   "id": "active-cooperation",
   "metadata": {},
   "outputs": [
    {
     "name": "stdout",
     "output_type": "stream",
     "text": [
      "WARNING:tensorflow:Layer lstm will not use cuDNN kernels since it doesn't meet the criteria. It will use a generic GPU kernel as fallback when running on GPU.\n",
      "WARNING:tensorflow:Layer lstm will not use cuDNN kernels since it doesn't meet the criteria. It will use a generic GPU kernel as fallback when running on GPU.\n",
      "WARNING:tensorflow:Layer lstm will not use cuDNN kernels since it doesn't meet the criteria. It will use a generic GPU kernel as fallback when running on GPU.\n",
      "WARNING:tensorflow:Layer lstm_1 will not use cuDNN kernels since it doesn't meet the criteria. It will use a generic GPU kernel as fallback when running on GPU.\n",
      "(140, 18)\n",
      "Model: \"model\"\n",
      "_________________________________________________________________\n",
      "Layer (type)                 Output Shape              Param #   \n",
      "=================================================================\n",
      "input_1 (InputLayer)         [(None, 140)]             0         \n",
      "_________________________________________________________________\n",
      "embedding (Embedding)        (None, 140, 150)          4525950   \n",
      "_________________________________________________________________\n",
      "bidirectional (Bidirectional (None, 140, 300)          361200    \n",
      "_________________________________________________________________\n",
      "lstm_1 (LSTM)                (None, 140, 300)          721200    \n",
      "_________________________________________________________________\n",
      "time_distributed (TimeDistri (None, 140, 18)           5418      \n",
      "_________________________________________________________________\n",
      "crf (CRF)                    (None, 140, 18)           324       \n",
      "=================================================================\n",
      "Total params: 5,614,092\n",
      "Trainable params: 5,614,092\n",
      "Non-trainable params: 0\n",
      "_________________________________________________________________\n"
     ]
    }
   ],
   "source": [
    "# from tensorflow.keras.layers import LSTM, Embedding, Dense, TimeDistributed, Dropout, Bidirectional\n",
    "inputs = Input(shape=(maxlen,))\n",
    "word_embedding_size = 150\n",
    "\n",
    "# Embedding Layer\n",
    "model = tf.keras.layers.Embedding(input_dim=n_words, output_dim=word_embedding_size, input_length=140)(inputs)\n",
    "\n",
    "# BI-LSTM Layer\n",
    "model = tf.keras.layers.Bidirectional(tf.keras.layers.LSTM(units=word_embedding_size, \n",
    "                           return_sequences=True, \n",
    "                           dropout=0.5, \n",
    "                           recurrent_dropout=0.5, \n",
    "                           kernel_initializer=tf.keras.initializers.HeNormal()))(model)\n",
    "model = tf.keras.layers.LSTM(units=word_embedding_size * 2, \n",
    "             return_sequences=True, \n",
    "             dropout=0.5, \n",
    "             recurrent_dropout=0.5, \n",
    "             kernel_initializer=tf.keras.initializers.HeNormal())(model)\n",
    "\n",
    "# TimeDistributed Layer\n",
    "model = tf.keras.layers.TimeDistributed(tf.keras.layers.Dense(n_tags, activation=\"relu\"))(model)  \n",
    "\n",
    "# CRF Layer\n",
    "# crf = tensorflow_addons.layers.CRF(n_tags)\n",
    "\n",
    "crf = CRF(n_tags, sparse_target=True)\n",
    "outputs = crf(model)  # output\n",
    "print(outputs[1].shape)\n",
    "\n",
    "model = Model(inputs, outputs)\n",
    "model.summary()"
   ]
  },
  {
   "cell_type": "code",
   "execution_count": 16,
   "id": "dried-oracle",
   "metadata": {},
   "outputs": [
    {
     "name": "stdout",
     "output_type": "stream",
     "text": [
      "Epoch 1/20\n",
      "WARNING:tensorflow:From /opt/envs/ai4e/lib/python3.7/site-packages/tensorflow/python/ops/array_ops.py:5049: calling gather (from tensorflow.python.ops.array_ops) with validate_indices is deprecated and will be removed in a future version.\n",
      "Instructions for updating:\n",
      "The `validate_indices` argument has no effect. Indices are always validated on CPU and never validated on GPU.\n",
      "99/99 [==============================] - 143s 1s/step - loss: 45.8670 - viterbi_accuracy: 0.9452 - accuracy: 0.9583 - val_loss: 312.9725 - val_viterbi_accuracy: 0.9669 - val_accuracy: 0.9669\n",
      "\n",
      "Epoch 00001: val_accuracy improved from -inf to 0.96694, saving model to ner-bi-lstm-td-model-0.97.hdf5\n",
      "Epoch 2/20\n",
      "99/99 [==============================] - 208s 2s/step - loss: 24.7947 - viterbi_accuracy: 0.9674 - accuracy: 0.9674 - val_loss: 312.2083 - val_viterbi_accuracy: 0.9667 - val_accuracy: 0.9668\n",
      "\n",
      "Epoch 00002: val_accuracy did not improve from 0.96694\n",
      "Epoch 3/20\n",
      "99/99 [==============================] - 205s 2s/step - loss: 17.7076 - viterbi_accuracy: 0.9692 - accuracy: 0.9692 - val_loss: 310.6079 - val_viterbi_accuracy: 0.9733 - val_accuracy: 0.9746\n",
      "\n",
      "Epoch 00003: val_accuracy improved from 0.96694 to 0.97465, saving model to ner-bi-lstm-td-model-0.97.hdf5\n",
      "Epoch 4/20\n",
      "99/99 [==============================] - 205s 2s/step - loss: 12.6292 - viterbi_accuracy: 0.9761 - accuracy: 0.9758 - val_loss: 309.8009 - val_viterbi_accuracy: 0.9644 - val_accuracy: 0.9767\n",
      "\n",
      "Epoch 00004: val_accuracy improved from 0.97465 to 0.97672, saving model to ner-bi-lstm-td-model-0.98.hdf5\n",
      "Epoch 5/20\n",
      "99/99 [==============================] - 282s 3s/step - loss: 10.9664 - viterbi_accuracy: 0.9783 - accuracy: 0.9776 - val_loss: 309.0971 - val_viterbi_accuracy: 0.9673 - val_accuracy: 0.9780\n",
      "\n",
      "Epoch 00005: val_accuracy improved from 0.97672 to 0.97800, saving model to ner-bi-lstm-td-model-0.98.hdf5\n",
      "Epoch 6/20\n",
      "99/99 [==============================] - 244s 2s/step - loss: 9.8993 - viterbi_accuracy: 0.9800 - accuracy: 0.9788 - val_loss: 308.2963 - val_viterbi_accuracy: 0.5109 - val_accuracy: 0.9799\n",
      "\n",
      "Epoch 00006: val_accuracy improved from 0.97800 to 0.97992, saving model to ner-bi-lstm-td-model-0.98.hdf5\n",
      "Epoch 7/20\n",
      "99/99 [==============================] - 279s 3s/step - loss: 9.0576 - viterbi_accuracy: 0.9817 - accuracy: 0.9806 - val_loss: 307.5749 - val_viterbi_accuracy: 0.5098 - val_accuracy: 0.9812\n",
      "\n",
      "Epoch 00007: val_accuracy improved from 0.97992 to 0.98115, saving model to ner-bi-lstm-td-model-0.98.hdf5\n",
      "Epoch 8/20\n",
      "99/99 [==============================] - 299s 3s/step - loss: 8.2381 - viterbi_accuracy: 0.9833 - accuracy: 0.9821 - val_loss: 306.7835 - val_viterbi_accuracy: 0.5104 - val_accuracy: 0.9827\n",
      "\n",
      "Epoch 00008: val_accuracy improved from 0.98115 to 0.98271, saving model to ner-bi-lstm-td-model-0.98.hdf5\n",
      "Epoch 9/20\n",
      "99/99 [==============================] - 280s 3s/step - loss: 7.6124 - viterbi_accuracy: 0.9846 - accuracy: 0.9828 - val_loss: 306.0863 - val_viterbi_accuracy: 0.5117 - val_accuracy: 0.9834\n",
      "\n",
      "Epoch 00009: val_accuracy improved from 0.98271 to 0.98341, saving model to ner-bi-lstm-td-model-0.98.hdf5\n",
      "Epoch 10/20\n",
      "99/99 [==============================] - 347s 4s/step - loss: 7.1881 - viterbi_accuracy: 0.9852 - accuracy: 0.9832 - val_loss: 305.4343 - val_viterbi_accuracy: 0.5121 - val_accuracy: 0.9837\n",
      "\n",
      "Epoch 00010: val_accuracy improved from 0.98341 to 0.98369, saving model to ner-bi-lstm-td-model-0.98.hdf5\n",
      "Epoch 11/20\n",
      "99/99 [==============================] - 177s 2s/step - loss: 6.8553 - viterbi_accuracy: 0.9857 - accuracy: 0.9834 - val_loss: 304.8119 - val_viterbi_accuracy: 0.5109 - val_accuracy: 0.9836\n",
      "\n",
      "Epoch 00011: val_accuracy did not improve from 0.98369\n",
      "Epoch 12/20\n",
      "99/99 [==============================] - 407s 4s/step - loss: 6.5620 - viterbi_accuracy: 0.9860 - accuracy: 0.9835 - val_loss: 304.1484 - val_viterbi_accuracy: 0.5087 - val_accuracy: 0.9839\n",
      "\n",
      "Epoch 00012: val_accuracy improved from 0.98369 to 0.98388, saving model to ner-bi-lstm-td-model-0.98.hdf5\n",
      "Epoch 13/20\n",
      "99/99 [==============================] - 219s 2s/step - loss: 6.3045 - viterbi_accuracy: 0.9862 - accuracy: 0.9836 - val_loss: 303.5050 - val_viterbi_accuracy: 0.5099 - val_accuracy: 0.9840\n",
      "\n",
      "Epoch 00013: val_accuracy improved from 0.98388 to 0.98400, saving model to ner-bi-lstm-td-model-0.98.hdf5\n",
      "Epoch 14/20\n",
      "99/99 [==============================] - 386s 4s/step - loss: 6.0622 - viterbi_accuracy: 0.9865 - accuracy: 0.9837 - val_loss: 302.8658 - val_viterbi_accuracy: 0.5065 - val_accuracy: 0.9841\n",
      "\n",
      "Epoch 00014: val_accuracy improved from 0.98400 to 0.98411, saving model to ner-bi-lstm-td-model-0.98.hdf5\n",
      "Epoch 15/20\n",
      "99/99 [==============================] - 196s 2s/step - loss: 5.8316 - viterbi_accuracy: 0.9867 - accuracy: 0.9838 - val_loss: 302.2570 - val_viterbi_accuracy: 0.5046 - val_accuracy: 0.9841\n",
      "\n",
      "Epoch 00015: val_accuracy did not improve from 0.98411\n",
      "Epoch 16/20\n",
      "99/99 [==============================] - 401s 4s/step - loss: 5.6050 - viterbi_accuracy: 0.9874 - accuracy: 0.9839 - val_loss: 301.5053 - val_viterbi_accuracy: 0.5014 - val_accuracy: 0.9852\n",
      "\n",
      "Epoch 00016: val_accuracy improved from 0.98411 to 0.98518, saving model to ner-bi-lstm-td-model-0.99.hdf5\n",
      "Epoch 17/20\n",
      "99/99 [==============================] - 260s 3s/step - loss: 5.4036 - viterbi_accuracy: 0.9881 - accuracy: 0.9839 - val_loss: 300.9081 - val_viterbi_accuracy: 0.5011 - val_accuracy: 0.9853\n",
      "\n",
      "Epoch 00017: val_accuracy improved from 0.98518 to 0.98528, saving model to ner-bi-lstm-td-model-0.99.hdf5\n",
      "Epoch 18/20\n",
      "99/99 [==============================] - 385s 4s/step - loss: 5.2047 - viterbi_accuracy: 0.9884 - accuracy: 0.9840 - val_loss: 300.2756 - val_viterbi_accuracy: 0.5003 - val_accuracy: 0.9857\n",
      "\n",
      "Epoch 00018: val_accuracy improved from 0.98528 to 0.98572, saving model to ner-bi-lstm-td-model-0.99.hdf5\n",
      "Epoch 19/20\n",
      "99/99 [==============================] - 232s 2s/step - loss: 5.0241 - viterbi_accuracy: 0.9891 - accuracy: 0.9840 - val_loss: 299.7109 - val_viterbi_accuracy: 0.5002 - val_accuracy: 0.9858\n",
      "\n",
      "Epoch 00019: val_accuracy improved from 0.98572 to 0.98584, saving model to ner-bi-lstm-td-model-0.99.hdf5\n",
      "Epoch 20/20\n",
      "99/99 [==============================] - 425s 4s/step - loss: 4.8561 - viterbi_accuracy: 0.9893 - accuracy: 0.9841 - val_loss: 299.1786 - val_viterbi_accuracy: 0.4994 - val_accuracy: 0.9859\n",
      "\n",
      "Epoch 00020: val_accuracy improved from 0.98584 to 0.98592, saving model to ner-bi-lstm-td-model-0.99.hdf5\n"
     ]
    }
   ],
   "source": [
    "#Optimiser \n",
    "adam = tf.keras.optimizers.Adam(learning_rate=0.0005, beta_1=0.9, beta_2=0.999)\n",
    "\n",
    "# Compile model\n",
    "model.compile(optimizer=adam, loss=crf.loss, metrics=[crf.accuracy, 'accuracy'])\n",
    "\n",
    "\n",
    "\n",
    "# Saving the best model only\n",
    "filepath=\"ner-bi-lstm-td-model-{val_accuracy:.2f}.hdf5\"\n",
    "checkpoint = ModelCheckpoint(filepath, monitor='val_accuracy', verbose=1, save_best_only=True, mode='max')\n",
    "callbacks_list = [checkpoint]\n",
    "\n",
    "# Fit the best model\n",
    "history = model.fit(X_train, np.array(y_train), batch_size=256, epochs=20, validation_split=0.1, verbose=1, callbacks=callbacks_list)"
   ]
  },
  {
   "cell_type": "code",
   "execution_count": 17,
   "id": "electronic-laundry",
   "metadata": {},
   "outputs": [
    {
     "data": {
      "image/png": "[encoded data removed]",
      "text/plain": [
       "<Figure size 864x360 with 2 Axes>"
      ]
     },
     "metadata": {},
     "output_type": "display_data"
    }
   ],
   "source": [
    "# Plot the graph \n",
    "plt.style.use('ggplot')\n",
    "\n",
    "def plot_history(history):\n",
    "    accuracy = history.history['accuracy']\n",
    "    val_accuracy = history.history['val_accuracy']\n",
    "    loss = history.history['loss']\n",
    "    val_loss = history.history['val_loss']\n",
    "    x = range(1, len(accuracy) + 1)\n",
    "\n",
    "    plt.figure(figsize=(12, 5))\n",
    "    plt.subplot(1, 2, 1)\n",
    "    plt.plot(x, accuracy, 'b', label='Training acc')\n",
    "    plt.plot(x, val_accuracy, 'r', label='Validation acc')\n",
    "    plt.title('Training and validation accuracy')\n",
    "    plt.legend()\n",
    "    plt.subplot(1, 2, 2)\n",
    "    plt.plot(x, loss, 'b', label='Training loss')\n",
    "    plt.plot(x, val_loss, 'r', label='Validation loss')\n",
    "    plt.title('Training and validation loss')\n",
    "    plt.legend()\n",
    "\n",
    "plot_history(history)"
   ]
  },
  {
   "cell_type": "code",
   "execution_count": 18,
   "id": "thirty-profile",
   "metadata": {},
   "outputs": [
    {
     "name": "stdout",
     "output_type": "stream",
     "text": [
      "220/220 [==============================] - 105s 467ms/step\n"
     ]
    }
   ],
   "source": [
    "def pred2label(pred):\n",
    "    out = []\n",
    "    for pred_i in pred:\n",
    "        out_i = []\n",
    "        for p in pred_i:\n",
    "            p_i = np.argmax(p)\n",
    "            out_i.append(idx2tag[p_i])\n",
    "        out.append(out_i)\n",
    "    return out\n",
    "test_pred = model.predict(X_test, verbose=1)   \n",
    "pred_labels = pred2label(test_pred)\n",
    "test_labels = pred2label(y_test)"
   ]
  },
  {
   "cell_type": "code",
   "execution_count": 19,
   "id": "statutory-commander",
   "metadata": {},
   "outputs": [
    {
     "name": "stdout",
     "output_type": "stream",
     "text": [
      "Requirement already satisfied: seqeval in /opt/envs/ai4e/lib/python3.7/site-packages (1.2.2)\n",
      "Requirement already satisfied: scikit-learn>=0.21.3 in /opt/envs/ai4e/lib/python3.7/site-packages (from seqeval) (0.24.1)\n",
      "Requirement already satisfied: numpy>=1.14.0 in /opt/envs/ai4e/lib/python3.7/site-packages (from seqeval) (1.19.5)\n",
      "Requirement already satisfied: scipy>=0.19.1 in /opt/envs/ai4e/lib/python3.7/site-packages (from scikit-learn>=0.21.3->seqeval) (1.6.0)\n",
      "Requirement already satisfied: joblib>=0.11 in /opt/envs/ai4e/lib/python3.7/site-packages (from scikit-learn>=0.21.3->seqeval) (1.0.0)\n",
      "Requirement already satisfied: threadpoolctl>=2.0.0 in /opt/envs/ai4e/lib/python3.7/site-packages (from scikit-learn>=0.21.3->seqeval) (2.1.0)\n"
     ]
    }
   ],
   "source": [
    "! pip install seqeval"
   ]
  },
  {
   "cell_type": "code",
   "execution_count": 20,
   "id": "logical-street",
   "metadata": {},
   "outputs": [
    {
     "name": "stdout",
     "output_type": "stream",
     "text": [
      "F1-score: 60.6%\n"
     ]
    }
   ],
   "source": [
    "from seqeval.metrics import precision_score, recall_score, f1_score, classification_report\n",
    "print(\"F1-score: {:.1%}\".format(f1_score(test_labels, pred_labels)))"
   ]
  },
  {
   "cell_type": "code",
   "execution_count": 21,
   "id": "otherwise-blade",
   "metadata": {},
   "outputs": [
    {
     "name": "stdout",
     "output_type": "stream",
     "text": [
      "Requirement already satisfied: sklearn_crfsuite in /opt/envs/ai4e/lib/python3.7/site-packages (0.3.6)\n",
      "Requirement already satisfied: tqdm>=2.0 in /opt/envs/ai4e/lib/python3.7/site-packages (from sklearn_crfsuite) (4.49.0)\n",
      "Requirement already satisfied: python-crfsuite>=0.8.3 in /opt/envs/ai4e/lib/python3.7/site-packages (from sklearn_crfsuite) (0.9.7)\n",
      "Requirement already satisfied: six in /opt/envs/ai4e/lib/python3.7/site-packages (from sklearn_crfsuite) (1.15.0)\n",
      "Requirement already satisfied: tabulate in /opt/envs/ai4e/lib/python3.7/site-packages (from sklearn_crfsuite) (0.8.9)\n"
     ]
    }
   ],
   "source": [
    "! pip install sklearn_crfsuite"
   ]
  },
  {
   "cell_type": "code",
   "execution_count": 22,
   "id": "domestic-failure",
   "metadata": {},
   "outputs": [
    {
     "name": "stderr",
     "output_type": "stream",
     "text": [
      "/opt/envs/ai4e/lib/python3.7/site-packages/sklearn/utils/validation.py:72: FutureWarning: Pass labels=None as keyword args. From version 1.0 (renaming of 0.25) passing these as positional arguments will result in an error\n",
      "  \"will result in an error\", FutureWarning)\n",
      "/opt/envs/ai4e/lib/python3.7/site-packages/sklearn/metrics/_classification.py:1245: UndefinedMetricWarning: Precision and F-score are ill-defined and being set to 0.0 in labels with no predicted samples. Use `zero_division` parameter to control this behavior.\n",
      "  _warn_prf(average, modifier, msg_start, len(result))\n",
      "/opt/envs/ai4e/lib/python3.7/site-packages/sklearn/metrics/_classification.py:1245: UndefinedMetricWarning: Precision and F-score are ill-defined and being set to 0.0 in labels with no predicted samples. Use `zero_division` parameter to control this behavior.\n",
      "  _warn_prf(average, modifier, msg_start, len(result))\n"
     ]
    },
    {
     "name": "stdout",
     "output_type": "stream",
     "text": [
      "              precision    recall  f1-score   support\n",
      "\n",
      "       B-art       0.00      0.00      0.00        88\n",
      "       B-eve       0.00      0.00      0.00        79\n",
      "       B-geo       0.81      0.87      0.84      7490\n",
      "       B-gpe       0.94      0.92      0.93      3434\n",
      "       B-nat       0.00      0.00      0.00        47\n",
      "       B-org       0.30      0.53      0.38      4026\n",
      "       B-per       0.82      0.77      0.79      3339\n",
      "       B-tim       0.28      0.02      0.04      3989\n",
      "       I-art       0.00      0.00      0.00        58\n",
      "       I-eve       0.00      0.00      0.00        63\n",
      "       I-geo       0.63      0.68      0.66      1502\n",
      "       I-gpe       0.00      0.00      0.00        63\n",
      "       I-nat       0.00      0.00      0.00        16\n",
      "       I-org       0.57      0.39      0.46      3296\n",
      "       I-per       0.82      0.79      0.80      3437\n",
      "       I-tim       0.00      0.00      0.00      1259\n",
      "           O       1.00      1.00      1.00    952854\n",
      "\n",
      "    accuracy                           0.99    985040\n",
      "   macro avg       0.36      0.35      0.35    985040\n",
      "weighted avg       0.98      0.99      0.98    985040\n",
      "\n"
     ]
    },
    {
     "name": "stderr",
     "output_type": "stream",
     "text": [
      "/opt/envs/ai4e/lib/python3.7/site-packages/sklearn/metrics/_classification.py:1245: UndefinedMetricWarning: Precision and F-score are ill-defined and being set to 0.0 in labels with no predicted samples. Use `zero_division` parameter to control this behavior.\n",
      "  _warn_prf(average, modifier, msg_start, len(result))\n"
     ]
    }
   ],
   "source": [
    "from  sklearn_crfsuite.metrics import flat_classification_report  \n",
    "report = flat_classification_report(y_pred=pred_labels, y_true=test_labels)\n",
    "print(report)"
   ]
  },
  {
   "cell_type": "code",
   "execution_count": 23,
   "id": "secure-minister",
   "metadata": {},
   "outputs": [],
   "source": [
    "TP = {}\n",
    "TN = {}\n",
    "FP = {}\n",
    "FN = {}\n",
    "for tag in tag2idx.keys():\n",
    "    TP[tag] = 0\n",
    "    TN[tag] = 0    \n",
    "    FP[tag] = 0    \n",
    "    FN[tag] = 0    \n",
    "\n",
    "def accumulate_score_by_tag(gt, pred):\n",
    "    \"\"\"\n",
    "    For each tag keep stats\n",
    "    \"\"\"\n",
    "    if gt == pred:\n",
    "        TP[gt] += 1\n",
    "    elif gt != 'O' and pred == 'O':\n",
    "        FN[gt] +=1\n",
    "    elif gt == 'O' and pred != 'O':\n",
    "        FP[gt] += 1\n",
    "    else:\n",
    "        TN[gt] += 1\n"
   ]
  },
  {
   "cell_type": "code",
   "execution_count": 24,
   "id": "communist-allocation",
   "metadata": {},
   "outputs": [],
   "source": [
    "for i, sentence in enumerate(X_test):\n",
    "    y_hat = np.argmax(test_pred[0], axis=-1)\n",
    "    gt = np.argmax(y_test[0], axis=-1)\n",
    "    for idx, (w,pred) in enumerate(zip(sentence,y_hat)):\n",
    "        accumulate_score_by_tag(idx2tag[gt[idx]],tags[pred])"
   ]
  },
  {
   "cell_type": "code",
   "execution_count": 25,
   "id": "cathedral-perfume",
   "metadata": {},
   "outputs": [
    {
     "name": "stdout",
     "output_type": "stream",
     "text": [
      "tag:unk\n",
      "\t TN:         0\tFP:         0\n",
      "\t FN:         0\tTP:         0\n",
      "tag:I-geo\n",
      "\t TN:         0\tFP:         0\n",
      "\t FN:         0\tTP:         0\n",
      "tag:B-geo\n",
      "\t TN:         0\tFP:         0\n",
      "\t FN:         0\tTP:         0\n",
      "tag:I-org\n",
      "\t TN:         0\tFP:         0\n",
      "\t FN:         0\tTP:         0\n",
      "tag:B-eve\n",
      "\t TN:         0\tFP:         0\n",
      "\t FN:         0\tTP:         0\n",
      "tag:O\n",
      "\t TN:         0\tFP:         0\n",
      "\t FN:         0\tTP:    978004\n",
      "tag:B-org\n",
      "\t TN:         0\tFP:         0\n",
      "\t FN:         0\tTP:      7036\n",
      "tag:I-nat\n",
      "\t TN:         0\tFP:         0\n",
      "\t FN:         0\tTP:         0\n",
      "tag:I-gpe\n",
      "\t TN:         0\tFP:         0\n",
      "\t FN:         0\tTP:         0\n",
      "tag:B-per\n",
      "\t TN:         0\tFP:         0\n",
      "\t FN:         0\tTP:         0\n",
      "tag:I-tim\n",
      "\t TN:         0\tFP:         0\n",
      "\t FN:         0\tTP:         0\n",
      "tag:I-eve\n",
      "\t TN:         0\tFP:         0\n",
      "\t FN:         0\tTP:         0\n",
      "tag:I-art\n",
      "\t TN:         0\tFP:         0\n",
      "\t FN:         0\tTP:         0\n",
      "tag:B-gpe\n",
      "\t TN:         0\tFP:         0\n",
      "\t FN:         0\tTP:         0\n",
      "tag:B-tim\n",
      "\t TN:         0\tFP:         0\n",
      "\t FN:         0\tTP:         0\n",
      "tag:B-art\n",
      "\t TN:         0\tFP:         0\n",
      "\t FN:         0\tTP:         0\n",
      "tag:B-nat\n",
      "\t TN:         0\tFP:         0\n",
      "\t FN:         0\tTP:         0\n",
      "tag:I-per\n",
      "\t TN:         0\tFP:         0\n",
      "\t FN:         0\tTP:         0\n"
     ]
    }
   ],
   "source": [
    "for tag in tag2idx.keys():\n",
    "    print(f'tag:{tag}')    \n",
    "    print('\\t TN:{:10}\\tFP:{:10}'.format(TN[tag],FP[tag]))\n",
    "    print('\\t FN:{:10}\\tTP:{:10}'.format(FN[tag],TP[tag]))    "
   ]
  },
  {
   "cell_type": "code",
   "execution_count": 26,
   "id": "above-lecture",
   "metadata": {},
   "outputs": [
    {
     "name": "stdout",
     "output_type": "stream",
     "text": [
      "BiLSTM-CRF.ipynb    ner-bi-lstm-td-model-0.97.hdf5\n",
      "LegalER.ipynb\t    ner-bi-lstm-td-model-0.98.hdf5\n",
      "NER-spaCy.ipynb     ner-bi-lstm-td-model-0.99.hdf5\n",
      "NLP-spaCy.ipynb     untitled.txt\n",
      "default_config.cfg\n"
     ]
    }
   ],
   "source": [
    "!ls"
   ]
  },
  {
   "cell_type": "code",
   "execution_count": null,
   "id": "continental-programmer",
   "metadata": {},
   "outputs": [],
   "source": []
  }
 ],
 "metadata": {
  "kernelspec": {
   "display_name": "Python 3",
   "language": "python",
   "name": "python3"
  },
  "language_info": {
   "codemirror_mode": {
    "name": "ipython",
    "version": 3
   },
   "file_extension": ".py",
   "mimetype": "text/x-python",
   "name": "python",
   "nbconvert_exporter": "python",
   "pygments_lexer": "ipython3",
   "version": "3.7.9"
  }
 },
 "nbformat": 4,
 "nbformat_minor": 5
}
